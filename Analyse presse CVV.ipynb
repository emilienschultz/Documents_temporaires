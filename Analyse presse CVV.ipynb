{
 "cells": [
  {
   "cell_type": "markdown",
   "metadata": {},
   "source": [
    "# Document d'analyse de la presse"
   ]
  },
  {
   "cell_type": "markdown",
   "metadata": {},
   "source": [
    "### Chargement des bibliothèques et fonctions"
   ]
  },
  {
   "cell_type": "code",
   "execution_count": 1,
   "metadata": {},
   "outputs": [],
   "source": [
    "import pandas as pd"
   ]
  },
  {
   "cell_type": "markdown",
   "metadata": {},
   "source": [
    "## Chargement des données\n",
    "\n",
    "chargement, mise en forme et renommage"
   ]
  },
  {
   "cell_type": "code",
   "execution_count": 30,
   "metadata": {},
   "outputs": [
    {
     "data": {
      "text/html": [
       "<div>\n",
       "<style scoped>\n",
       "    .dataframe tbody tr th:only-of-type {\n",
       "        vertical-align: middle;\n",
       "    }\n",
       "\n",
       "    .dataframe tbody tr th {\n",
       "        vertical-align: top;\n",
       "    }\n",
       "\n",
       "    .dataframe thead th {\n",
       "        text-align: right;\n",
       "    }\n",
       "</style>\n",
       "<table border=\"1\" class=\"dataframe\">\n",
       "  <thead>\n",
       "    <tr style=\"text-align: right;\">\n",
       "      <th></th>\n",
       "      <th>Journal</th>\n",
       "      <th>Titre</th>\n",
       "      <th>Rayonnement</th>\n",
       "      <th>Thème</th>\n",
       "      <th>Velo_transport</th>\n",
       "      <th>Velo_central</th>\n",
       "      <th>CVV</th>\n",
       "      <th>Association_general</th>\n",
       "      <th>Dim_mil</th>\n",
       "      <th>Dim_env</th>\n",
       "      <th>Dim_pol</th>\n",
       "      <th>Dim_asso</th>\n",
       "      <th>Marseille_spe</th>\n",
       "      <th>Cadrage</th>\n",
       "      <th>Autres_acteurs</th>\n",
       "      <th>num</th>\n",
       "    </tr>\n",
       "    <tr>\n",
       "      <th>Date</th>\n",
       "      <th></th>\n",
       "      <th></th>\n",
       "      <th></th>\n",
       "      <th></th>\n",
       "      <th></th>\n",
       "      <th></th>\n",
       "      <th></th>\n",
       "      <th></th>\n",
       "      <th></th>\n",
       "      <th></th>\n",
       "      <th></th>\n",
       "      <th></th>\n",
       "      <th></th>\n",
       "      <th></th>\n",
       "      <th></th>\n",
       "      <th></th>\n",
       "    </tr>\n",
       "  </thead>\n",
       "  <tbody>\n",
       "    <tr>\n",
       "      <th>2020-11-01</th>\n",
       "      <td>La Marseillaise</td>\n",
       "      <td>Les acteurs économiques du vélo changent de br...</td>\n",
       "      <td>L</td>\n",
       "      <td>réparation;pièces détachées;déconfinement;augm...</td>\n",
       "      <td>Oui</td>\n",
       "      <td>Oui</td>\n",
       "      <td>Stéphane Coppey (administrateur bénévole de le...</td>\n",
       "      <td>Ni CVV ni commission</td>\n",
       "      <td>Non</td>\n",
       "      <td>Non</td>\n",
       "      <td>Non</td>\n",
       "      <td>Non</td>\n",
       "      <td>Un peu</td>\n",
       "      <td>G</td>\n",
       "      <td>Oui</td>\n",
       "      <td>1</td>\n",
       "    </tr>\n",
       "    <tr>\n",
       "      <th>2020-10-16</th>\n",
       "      <td>20 Minutes</td>\n",
       "      <td>Marseille : la sécurité routière lance une cam...</td>\n",
       "      <td>L</td>\n",
       "      <td>sécurité;accident;trottinette électrique; vélo...</td>\n",
       "      <td>Non précisé</td>\n",
       "      <td>Non</td>\n",
       "      <td>Cyril Pimentel (président)</td>\n",
       "      <td>Oui</td>\n",
       "      <td>Non</td>\n",
       "      <td>Non</td>\n",
       "      <td>Non</td>\n",
       "      <td>Non</td>\n",
       "      <td>Non</td>\n",
       "      <td>G</td>\n",
       "      <td>Non</td>\n",
       "      <td>1</td>\n",
       "    </tr>\n",
       "    <tr>\n",
       "      <th>2020-10-07</th>\n",
       "      <td>Made in Marseille</td>\n",
       "      <td>La ville et la métropole cherchent une vision ...</td>\n",
       "      <td>L</td>\n",
       "      <td>plan vélo métropolitain;PDU;charte vélo;corona...</td>\n",
       "      <td>Oui</td>\n",
       "      <td>Oui</td>\n",
       "      <td>Cyril Pimentel (coordinateur)</td>\n",
       "      <td>Oui</td>\n",
       "      <td>Non</td>\n",
       "      <td>Non</td>\n",
       "      <td>Oui</td>\n",
       "      <td>Non</td>\n",
       "      <td>Oui</td>\n",
       "      <td>G</td>\n",
       "      <td>Non</td>\n",
       "      <td>1</td>\n",
       "    </tr>\n",
       "    <tr>\n",
       "      <th>2020-10-04</th>\n",
       "      <td>20 Minutes</td>\n",
       "      <td>Coronavirus à Marseille : la mairie pousse la ...</td>\n",
       "      <td>L</td>\n",
       "      <td>coronapistes;PDU;cohabitation politique</td>\n",
       "      <td>Oui</td>\n",
       "      <td>Oui</td>\n",
       "      <td>Cyril Pimentel (président)</td>\n",
       "      <td>Oui</td>\n",
       "      <td>Non</td>\n",
       "      <td>Non</td>\n",
       "      <td>Oui</td>\n",
       "      <td>Non</td>\n",
       "      <td>Oui</td>\n",
       "      <td>G</td>\n",
       "      <td>Non</td>\n",
       "      <td>1</td>\n",
       "    </tr>\n",
       "    <tr>\n",
       "      <th>2020-10-03</th>\n",
       "      <td>Marsactu</td>\n",
       "      <td>La ville pousse la métropole sur la piste du vélo</td>\n",
       "      <td>L</td>\n",
       "      <td>NaN</td>\n",
       "      <td>NaN</td>\n",
       "      <td>NaN</td>\n",
       "      <td>NaN</td>\n",
       "      <td>NaN</td>\n",
       "      <td>NaN</td>\n",
       "      <td>NaN</td>\n",
       "      <td>NaN</td>\n",
       "      <td>NaN</td>\n",
       "      <td>NaN</td>\n",
       "      <td>NaN</td>\n",
       "      <td>NaN</td>\n",
       "      <td>1</td>\n",
       "    </tr>\n",
       "  </tbody>\n",
       "</table>\n",
       "</div>"
      ],
      "text/plain": [
       "                      Journal  \\\n",
       "Date                            \n",
       "2020-11-01    La Marseillaise   \n",
       "2020-10-16         20 Minutes   \n",
       "2020-10-07  Made in Marseille   \n",
       "2020-10-04         20 Minutes   \n",
       "2020-10-03           Marsactu   \n",
       "\n",
       "                                                        Titre Rayonnement  \\\n",
       "Date                                                                        \n",
       "2020-11-01  Les acteurs économiques du vélo changent de br...          L    \n",
       "2020-10-16  Marseille : la sécurité routière lance une cam...           L   \n",
       "2020-10-07  La ville et la métropole cherchent une vision ...           L   \n",
       "2020-10-04  Coronavirus à Marseille : la mairie pousse la ...           L   \n",
       "2020-10-03  La ville pousse la métropole sur la piste du vélo           L   \n",
       "\n",
       "                                                        Thème Velo_transport  \\\n",
       "Date                                                                           \n",
       "2020-11-01  réparation;pièces détachées;déconfinement;augm...            Oui   \n",
       "2020-10-16  sécurité;accident;trottinette électrique; vélo...    Non précisé   \n",
       "2020-10-07  plan vélo métropolitain;PDU;charte vélo;corona...            Oui   \n",
       "2020-10-04            coronapistes;PDU;cohabitation politique            Oui   \n",
       "2020-10-03                                                NaN            NaN   \n",
       "\n",
       "           Velo_central                                                CVV  \\\n",
       "Date                                                                         \n",
       "2020-11-01          Oui  Stéphane Coppey (administrateur bénévole de le...   \n",
       "2020-10-16          Non                         Cyril Pimentel (président)   \n",
       "2020-10-07          Oui                      Cyril Pimentel (coordinateur)   \n",
       "2020-10-04          Oui                         Cyril Pimentel (président)   \n",
       "2020-10-03          NaN                                                NaN   \n",
       "\n",
       "             Association_general Dim_mil Dim_env Dim_pol Dim_asso  \\\n",
       "Date                                                                \n",
       "2020-11-01  Ni CVV ni commission     Non     Non     Non      Non   \n",
       "2020-10-16                   Oui     Non     Non     Non      Non   \n",
       "2020-10-07                   Oui     Non     Non     Oui      Non   \n",
       "2020-10-04                   Oui     Non     Non     Oui      Non   \n",
       "2020-10-03                   NaN     NaN     NaN     NaN      NaN   \n",
       "\n",
       "           Marseille_spe Cadrage Autres_acteurs  num  \n",
       "Date                                                  \n",
       "2020-11-01        Un peu       G           Oui     1  \n",
       "2020-10-16           Non       G            Non    1  \n",
       "2020-10-07           Oui       G            Non    1  \n",
       "2020-10-04           Oui       G            Non    1  \n",
       "2020-10-03           NaN     NaN            NaN    1  "
      ]
     },
     "execution_count": 30,
     "metadata": {},
     "output_type": "execute_result"
    }
   ],
   "source": [
    "#data = pd.read_excel(\"./Grille de codage - revue de presse écrite 2020.xlsx\")\n",
    "\n",
    "url = \"https://github.com/emilienschultz/Documents_temporaires/raw/master/Grille%20de%20codage%20-%20revue%20de%20presse%20e%CC%81crite%202020.xlsx\"\n",
    "data = pd.read_excel(url)\n",
    "\n",
    "data = data.drop(0)\n",
    "data = data.drop(data.columns[0],axis=1)\n",
    "data.columns = ['Journal', 'Titre', 'Date',\n",
    "       'Rayonnement', 'Thème',\n",
    "       'Velo_transport',\n",
    "       'Velo_central',\n",
    "       'CVV',\n",
    "       'Association_general',\n",
    "       'Dim_mil', 'Dim_env', 'Dim_pol',\n",
    "       'Dim_asso', 'Marseille_spe',\n",
    "       'Cadrage',\n",
    "       'Autres_acteurs']\n",
    "data[\"num\"] = 1\n",
    "data[\"Date\"] = pd.to_datetime(data[\"Date\"])\n",
    "data = data.set_index(\"Date\")\n",
    "data"
   ]
  },
  {
   "cell_type": "markdown",
   "metadata": {},
   "source": [
    "## Tris à plat"
   ]
  },
  {
   "cell_type": "markdown",
   "metadata": {},
   "source": [
    "### Journal"
   ]
  },
  {
   "cell_type": "code",
   "execution_count": 10,
   "metadata": {
    "scrolled": true
   },
   "outputs": [
    {
     "data": {
      "text/plain": [
       "20 Minutes           2\n",
       "Marsactu             1\n",
       "La Marseillaise      1\n",
       "Made in Marseille    1\n",
       "Name: Journal, dtype: int64"
      ]
     },
     "execution_count": 10,
     "metadata": {},
     "output_type": "execute_result"
    }
   ],
   "source": [
    "data[\"Journal\"].value_counts()"
   ]
  },
  {
   "cell_type": "markdown",
   "metadata": {},
   "source": [
    "### Thèmes"
   ]
  },
  {
   "cell_type": "code",
   "execution_count": 26,
   "metadata": {},
   "outputs": [
    {
     "data": {
      "text/plain": [
       "pdu                                      2\n",
       "cohabitation politique                   2\n",
       "augmentation de l'utilisation du vélo    1\n",
       "déconfinement                            1\n",
       "charte vélo                              1\n",
       "accident                                 1\n",
       "réparation                               1\n",
       "plan vélo métropolitain                  1\n",
       "coronapiste                              1\n",
       "trottinette électrique                   1\n",
       "vélo libre service                       1\n",
       "pièces détachées                         1\n",
       "bandeaux réfléchissants                  1\n",
       "coronapistes                             1\n",
       "sécurité                                 1\n",
       "                                         1\n",
       "dtype: int64"
      ]
     },
     "execution_count": 26,
     "metadata": {},
     "output_type": "execute_result"
    }
   ],
   "source": [
    "t = [i.lower().split(\";\") for i in list(data[\"Thème\"]) if pd.notnull(i)]\n",
    "t = [j.strip() for i in t for j in i]\n",
    "pd.Series(t).value_counts()"
   ]
  },
  {
   "cell_type": "markdown",
   "metadata": {},
   "source": [
    "### Centralité du vélo"
   ]
  },
  {
   "cell_type": "code",
   "execution_count": 27,
   "metadata": {},
   "outputs": [
    {
     "data": {
      "text/plain": [
       "Oui    3\n",
       "Non    1\n",
       "Name: Velo_central, dtype: int64"
      ]
     },
     "execution_count": 27,
     "metadata": {},
     "output_type": "execute_result"
    }
   ],
   "source": [
    "data[\"Velo_central\"].value_counts()"
   ]
  },
  {
   "cell_type": "markdown",
   "metadata": {},
   "source": [
    "## Évolution temporelle"
   ]
  },
  {
   "cell_type": "code",
   "execution_count": 19,
   "metadata": {},
   "outputs": [
    {
     "data": {
      "text/plain": [
       "<matplotlib.axes._subplots.AxesSubplot at 0x114de3dd0>"
      ]
     },
     "execution_count": 19,
     "metadata": {},
     "output_type": "execute_result"
    },
    {
     "data": {
      "image/png": "[encoded data removed]",
      "text/plain": [
       "<Figure size 432x288 with 1 Axes>"
      ]
     },
     "metadata": {
      "needs_background": "light"
     },
     "output_type": "display_data"
    }
   ],
   "source": [
    "data[\"num\"].resample(\"d\").sum().plot(style=\"o\")"
   ]
  }
 ],
 "metadata": {
  "kernelspec": {
   "display_name": "Python 3",
   "language": "python",
   "name": "python3"
  },
  "language_info": {
   "codemirror_mode": {
    "name": "ipython",
    "version": 3
   },
   "file_extension": ".py",
   "mimetype": "text/x-python",
   "name": "python",
   "nbconvert_exporter": "python",
   "pygments_lexer": "ipython3",
   "version": "3.7.7"
  }
 },
 "nbformat": 4,
 "nbformat_minor": 4
}
